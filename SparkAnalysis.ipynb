{
 "cells": [
  {
   "cell_type": "code",
   "execution_count": 24,
   "id": "de24ffd2",
   "metadata": {},
   "outputs": [
    {
     "name": "stdout",
     "output_type": "stream",
     "text": [
      "Requirement already satisfied: pyspark in /opt/anaconda3/lib/python3.12/site-packages (3.5.3)\n",
      "Requirement already satisfied: py4j==0.10.9.7 in /opt/anaconda3/lib/python3.12/site-packages (from pyspark) (0.10.9.7)\n",
      "Note: you may need to restart the kernel to use updated packages.\n"
     ]
    }
   ],
   "source": [
    "pip install pyspark"
   ]
  },
  {
   "cell_type": "code",
   "execution_count": 7,
   "id": "911cccfe",
   "metadata": {},
   "outputs": [
    {
     "name": "stdout",
     "output_type": "stream",
     "text": [
      "Channels:\n",
      " - conda-forge\n",
      " - defaults\n",
      "Platform: osx-arm64\n",
      "Collecting package metadata (repodata.json): done\n",
      "Solving environment: failed\n",
      "\n",
      "PackagesNotFoundError: The following packages are not available from current channels:\n",
      "\n",
      "  - hadoop-aws\n",
      "\n",
      "Current channels:\n",
      "\n",
      "  - https://conda.anaconda.org/conda-forge\n",
      "  - https://repo.anaconda.com/pkgs/main\n",
      "  - https://repo.anaconda.com/pkgs/r\n",
      "\n",
      "To search for alternate channels that may provide the conda package you're\n",
      "looking for, navigate to\n",
      "\n",
      "    https://anaconda.org\n",
      "\n",
      "and use the search bar at the top of the page.\n",
      "\n",
      "\n",
      "\n",
      "Note: you may need to restart the kernel to use updated packages.\n"
     ]
    }
   ],
   "source": [
    "conda install -c conda-forge hadoop-aws"
   ]
  },
  {
   "cell_type": "code",
   "execution_count": 50,
   "id": "d4e2e4db",
   "metadata": {},
   "outputs": [
    {
     "name": "stderr",
     "output_type": "stream",
     "text": [
      "24/12/08 17:31:10 WARN SparkContext: Another SparkContext is being constructed (or threw an exception in its constructor). This may indicate an error, since only one SparkContext should be running in this JVM (see SPARK-2243). The other SparkContext was created at:\n",
      "org.apache.spark.api.java.JavaSparkContext.<init>(JavaSparkContext.scala:58)\n",
      "java.base/jdk.internal.reflect.DirectConstructorHandleAccessor.newInstance(DirectConstructorHandleAccessor.java:62)\n",
      "java.base/java.lang.reflect.Constructor.newInstanceWithCaller(Constructor.java:501)\n",
      "java.base/java.lang.reflect.Constructor.newInstance(Constructor.java:485)\n",
      "py4j.reflection.MethodInvoker.invoke(MethodInvoker.java:247)\n",
      "py4j.reflection.ReflectionEngine.invoke(ReflectionEngine.java:374)\n",
      "py4j.Gateway.invoke(Gateway.java:238)\n",
      "py4j.commands.ConstructorCommand.invokeConstructor(ConstructorCommand.java:80)\n",
      "py4j.commands.ConstructorCommand.execute(ConstructorCommand.java:69)\n",
      "py4j.ClientServerConnection.waitForCommands(ClientServerConnection.java:182)\n",
      "py4j.ClientServerConnection.run(ClientServerConnection.java:106)\n",
      "java.base/java.lang.Thread.run(Thread.java:1575)\n"
     ]
    },
    {
     "ename": "Py4JJavaError",
     "evalue": "An error occurred while calling None.org.apache.spark.api.java.JavaSparkContext.\n: java.lang.UnsupportedOperationException: getSubject is supported only if a security manager is allowed\n\tat java.base/javax.security.auth.Subject.getSubject(Subject.java:347)\n\tat org.apache.hadoop.security.UserGroupInformation.getCurrentUser(UserGroupInformation.java:577)\n\tat org.apache.spark.util.Utils$.$anonfun$getCurrentUserName$1(Utils.scala:2416)\n\tat scala.Option.getOrElse(Option.scala:189)\n\tat org.apache.spark.util.Utils$.getCurrentUserName(Utils.scala:2416)\n\tat org.apache.spark.SparkContext.<init>(SparkContext.scala:329)\n\tat org.apache.spark.api.java.JavaSparkContext.<init>(JavaSparkContext.scala:58)\n\tat java.base/jdk.internal.reflect.DirectConstructorHandleAccessor.newInstance(DirectConstructorHandleAccessor.java:62)\n\tat java.base/java.lang.reflect.Constructor.newInstanceWithCaller(Constructor.java:501)\n\tat java.base/java.lang.reflect.Constructor.newInstance(Constructor.java:485)\n\tat py4j.reflection.MethodInvoker.invoke(MethodInvoker.java:247)\n\tat py4j.reflection.ReflectionEngine.invoke(ReflectionEngine.java:374)\n\tat py4j.Gateway.invoke(Gateway.java:238)\n\tat py4j.commands.ConstructorCommand.invokeConstructor(ConstructorCommand.java:80)\n\tat py4j.commands.ConstructorCommand.execute(ConstructorCommand.java:69)\n\tat py4j.ClientServerConnection.waitForCommands(ClientServerConnection.java:182)\n\tat py4j.ClientServerConnection.run(ClientServerConnection.java:106)\n\tat java.base/java.lang.Thread.run(Thread.java:1575)\n",
     "output_type": "error",
     "traceback": [
      "\u001b[0;31m---------------------------------------------------------------------------\u001b[0m",
      "\u001b[0;31mPy4JJavaError\u001b[0m                             Traceback (most recent call last)",
      "Cell \u001b[0;32mIn[50], line 14\u001b[0m\n\u001b[1;32m      1\u001b[0m \u001b[38;5;28;01mfrom\u001b[39;00m \u001b[38;5;21;01mpyspark\u001b[39;00m\u001b[38;5;21;01m.\u001b[39;00m\u001b[38;5;21;01msql\u001b[39;00m \u001b[38;5;28;01mimport\u001b[39;00m SparkSession\n\u001b[1;32m      3\u001b[0m spark \u001b[38;5;241m=\u001b[39m SparkSession\u001b[38;5;241m.\u001b[39mbuilder \\\n\u001b[1;32m      4\u001b[0m     \u001b[38;5;241m.\u001b[39mappName(\u001b[38;5;124m\"\u001b[39m\u001b[38;5;124mMinIO Integration\u001b[39m\u001b[38;5;124m\"\u001b[39m) \\\n\u001b[1;32m      5\u001b[0m     \u001b[38;5;241m.\u001b[39mconfig(\u001b[38;5;124m\"\u001b[39m\u001b[38;5;124mspark.jars.packages\u001b[39m\u001b[38;5;124m\"\u001b[39m, \u001b[38;5;124m\"\u001b[39m\u001b[38;5;124morg.apache.hadoop:hadoop-aws:3.3.1\u001b[39m\u001b[38;5;124m\"\u001b[39m) \\\n\u001b[1;32m      6\u001b[0m     \u001b[38;5;241m.\u001b[39mconfig(\u001b[38;5;124m\"\u001b[39m\u001b[38;5;124mfs.s3a.impl\u001b[39m\u001b[38;5;124m\"\u001b[39m, \u001b[38;5;124m\"\u001b[39m\u001b[38;5;124morg.apache.hadoop.fs.s3a.S3AFileSystem\u001b[39m\u001b[38;5;124m\"\u001b[39m) \\\n\u001b[1;32m      7\u001b[0m     \u001b[38;5;241m.\u001b[39mconfig(\u001b[38;5;124m\"\u001b[39m\u001b[38;5;124mfs.s3a.path.style.access\u001b[39m\u001b[38;5;124m\"\u001b[39m, \u001b[38;5;124m\"\u001b[39m\u001b[38;5;124mtrue\u001b[39m\u001b[38;5;124m\"\u001b[39m) \\\n\u001b[1;32m      8\u001b[0m     \u001b[38;5;241m.\u001b[39mconfig(\u001b[38;5;124m\"\u001b[39m\u001b[38;5;124mfs.s3a.endpoint\u001b[39m\u001b[38;5;124m\"\u001b[39m, \u001b[38;5;124m\"\u001b[39m\u001b[38;5;124mhttp://127.0.0.1:52076\u001b[39m\u001b[38;5;124m\"\u001b[39m) \\\n\u001b[1;32m      9\u001b[0m     \u001b[38;5;241m.\u001b[39mconfig(\u001b[38;5;124m\"\u001b[39m\u001b[38;5;124mfs.s3a.access.key\u001b[39m\u001b[38;5;124m\"\u001b[39m, \u001b[38;5;124m\"\u001b[39m\u001b[38;5;124mminioadmin\u001b[39m\u001b[38;5;124m\"\u001b[39m) \\\n\u001b[1;32m     10\u001b[0m     \u001b[38;5;241m.\u001b[39mconfig(\u001b[38;5;124m\"\u001b[39m\u001b[38;5;124mfs.s3a.secret.key\u001b[39m\u001b[38;5;124m\"\u001b[39m, \u001b[38;5;124m\"\u001b[39m\u001b[38;5;124mminioadmin\u001b[39m\u001b[38;5;124m\"\u001b[39m) \\\n\u001b[1;32m     11\u001b[0m     \u001b[38;5;241m.\u001b[39mconfig(\u001b[38;5;124m\"\u001b[39m\u001b[38;5;124mhadoop.security.authentication\u001b[39m\u001b[38;5;124m\"\u001b[39m, \u001b[38;5;124m\"\u001b[39m\u001b[38;5;124mnone\u001b[39m\u001b[38;5;124m\"\u001b[39m) \\\n\u001b[1;32m     12\u001b[0m     \u001b[38;5;241m.\u001b[39mconfig(\u001b[38;5;124m\"\u001b[39m\u001b[38;5;124mhadoop.security.authorization\u001b[39m\u001b[38;5;124m\"\u001b[39m, \u001b[38;5;124m\"\u001b[39m\u001b[38;5;124mfalse\u001b[39m\u001b[38;5;124m\"\u001b[39m) \\\n\u001b[1;32m     13\u001b[0m     \u001b[38;5;241m.\u001b[39mconfig(\u001b[38;5;124m\"\u001b[39m\u001b[38;5;124mspark.hadoop.fs.s3a.aws.credentials.provider\u001b[39m\u001b[38;5;124m\"\u001b[39m, \u001b[38;5;124m\"\u001b[39m\u001b[38;5;124morg.apache.hadoop.fs.s3a.SimpleAWSCredentialsProvider\u001b[39m\u001b[38;5;124m\"\u001b[39m) \\\n\u001b[0;32m---> 14\u001b[0m     \u001b[38;5;241m.\u001b[39mgetOrCreate()\n",
      "File \u001b[0;32m/opt/anaconda3/lib/python3.12/site-packages/pyspark/sql/session.py:497\u001b[0m, in \u001b[0;36mSparkSession.Builder.getOrCreate\u001b[0;34m(self)\u001b[0m\n\u001b[1;32m    495\u001b[0m     sparkConf\u001b[38;5;241m.\u001b[39mset(key, value)\n\u001b[1;32m    496\u001b[0m \u001b[38;5;66;03m# This SparkContext may be an existing one.\u001b[39;00m\n\u001b[0;32m--> 497\u001b[0m sc \u001b[38;5;241m=\u001b[39m SparkContext\u001b[38;5;241m.\u001b[39mgetOrCreate(sparkConf)\n\u001b[1;32m    498\u001b[0m \u001b[38;5;66;03m# Do not update `SparkConf` for existing `SparkContext`, as it's shared\u001b[39;00m\n\u001b[1;32m    499\u001b[0m \u001b[38;5;66;03m# by all sessions.\u001b[39;00m\n\u001b[1;32m    500\u001b[0m session \u001b[38;5;241m=\u001b[39m SparkSession(sc, options\u001b[38;5;241m=\u001b[39m\u001b[38;5;28mself\u001b[39m\u001b[38;5;241m.\u001b[39m_options)\n",
      "File \u001b[0;32m/opt/anaconda3/lib/python3.12/site-packages/pyspark/context.py:515\u001b[0m, in \u001b[0;36mSparkContext.getOrCreate\u001b[0;34m(cls, conf)\u001b[0m\n\u001b[1;32m    513\u001b[0m \u001b[38;5;28;01mwith\u001b[39;00m SparkContext\u001b[38;5;241m.\u001b[39m_lock:\n\u001b[1;32m    514\u001b[0m     \u001b[38;5;28;01mif\u001b[39;00m SparkContext\u001b[38;5;241m.\u001b[39m_active_spark_context \u001b[38;5;129;01mis\u001b[39;00m \u001b[38;5;28;01mNone\u001b[39;00m:\n\u001b[0;32m--> 515\u001b[0m         SparkContext(conf\u001b[38;5;241m=\u001b[39mconf \u001b[38;5;129;01mor\u001b[39;00m SparkConf())\n\u001b[1;32m    516\u001b[0m     \u001b[38;5;28;01massert\u001b[39;00m SparkContext\u001b[38;5;241m.\u001b[39m_active_spark_context \u001b[38;5;129;01mis\u001b[39;00m \u001b[38;5;129;01mnot\u001b[39;00m \u001b[38;5;28;01mNone\u001b[39;00m\n\u001b[1;32m    517\u001b[0m     \u001b[38;5;28;01mreturn\u001b[39;00m SparkContext\u001b[38;5;241m.\u001b[39m_active_spark_context\n",
      "File \u001b[0;32m/opt/anaconda3/lib/python3.12/site-packages/pyspark/context.py:203\u001b[0m, in \u001b[0;36mSparkContext.__init__\u001b[0;34m(self, master, appName, sparkHome, pyFiles, environment, batchSize, serializer, conf, gateway, jsc, profiler_cls, udf_profiler_cls, memory_profiler_cls)\u001b[0m\n\u001b[1;32m    201\u001b[0m SparkContext\u001b[38;5;241m.\u001b[39m_ensure_initialized(\u001b[38;5;28mself\u001b[39m, gateway\u001b[38;5;241m=\u001b[39mgateway, conf\u001b[38;5;241m=\u001b[39mconf)\n\u001b[1;32m    202\u001b[0m \u001b[38;5;28;01mtry\u001b[39;00m:\n\u001b[0;32m--> 203\u001b[0m     \u001b[38;5;28mself\u001b[39m\u001b[38;5;241m.\u001b[39m_do_init(\n\u001b[1;32m    204\u001b[0m         master,\n\u001b[1;32m    205\u001b[0m         appName,\n\u001b[1;32m    206\u001b[0m         sparkHome,\n\u001b[1;32m    207\u001b[0m         pyFiles,\n\u001b[1;32m    208\u001b[0m         environment,\n\u001b[1;32m    209\u001b[0m         batchSize,\n\u001b[1;32m    210\u001b[0m         serializer,\n\u001b[1;32m    211\u001b[0m         conf,\n\u001b[1;32m    212\u001b[0m         jsc,\n\u001b[1;32m    213\u001b[0m         profiler_cls,\n\u001b[1;32m    214\u001b[0m         udf_profiler_cls,\n\u001b[1;32m    215\u001b[0m         memory_profiler_cls,\n\u001b[1;32m    216\u001b[0m     )\n\u001b[1;32m    217\u001b[0m \u001b[38;5;28;01mexcept\u001b[39;00m \u001b[38;5;167;01mBaseException\u001b[39;00m:\n\u001b[1;32m    218\u001b[0m     \u001b[38;5;66;03m# If an error occurs, clean up in order to allow future SparkContext creation:\u001b[39;00m\n\u001b[1;32m    219\u001b[0m     \u001b[38;5;28mself\u001b[39m\u001b[38;5;241m.\u001b[39mstop()\n",
      "File \u001b[0;32m/opt/anaconda3/lib/python3.12/site-packages/pyspark/context.py:296\u001b[0m, in \u001b[0;36mSparkContext._do_init\u001b[0;34m(self, master, appName, sparkHome, pyFiles, environment, batchSize, serializer, conf, jsc, profiler_cls, udf_profiler_cls, memory_profiler_cls)\u001b[0m\n\u001b[1;32m    293\u001b[0m \u001b[38;5;28mself\u001b[39m\u001b[38;5;241m.\u001b[39menvironment[\u001b[38;5;124m\"\u001b[39m\u001b[38;5;124mPYTHONHASHSEED\u001b[39m\u001b[38;5;124m\"\u001b[39m] \u001b[38;5;241m=\u001b[39m os\u001b[38;5;241m.\u001b[39menviron\u001b[38;5;241m.\u001b[39mget(\u001b[38;5;124m\"\u001b[39m\u001b[38;5;124mPYTHONHASHSEED\u001b[39m\u001b[38;5;124m\"\u001b[39m, \u001b[38;5;124m\"\u001b[39m\u001b[38;5;124m0\u001b[39m\u001b[38;5;124m\"\u001b[39m)\n\u001b[1;32m    295\u001b[0m \u001b[38;5;66;03m# Create the Java SparkContext through Py4J\u001b[39;00m\n\u001b[0;32m--> 296\u001b[0m \u001b[38;5;28mself\u001b[39m\u001b[38;5;241m.\u001b[39m_jsc \u001b[38;5;241m=\u001b[39m jsc \u001b[38;5;129;01mor\u001b[39;00m \u001b[38;5;28mself\u001b[39m\u001b[38;5;241m.\u001b[39m_initialize_context(\u001b[38;5;28mself\u001b[39m\u001b[38;5;241m.\u001b[39m_conf\u001b[38;5;241m.\u001b[39m_jconf)\n\u001b[1;32m    297\u001b[0m \u001b[38;5;66;03m# Reset the SparkConf to the one actually used by the SparkContext in JVM.\u001b[39;00m\n\u001b[1;32m    298\u001b[0m \u001b[38;5;28mself\u001b[39m\u001b[38;5;241m.\u001b[39m_conf \u001b[38;5;241m=\u001b[39m SparkConf(_jconf\u001b[38;5;241m=\u001b[39m\u001b[38;5;28mself\u001b[39m\u001b[38;5;241m.\u001b[39m_jsc\u001b[38;5;241m.\u001b[39msc()\u001b[38;5;241m.\u001b[39mconf())\n",
      "File \u001b[0;32m/opt/anaconda3/lib/python3.12/site-packages/pyspark/context.py:421\u001b[0m, in \u001b[0;36mSparkContext._initialize_context\u001b[0;34m(self, jconf)\u001b[0m\n\u001b[1;32m    417\u001b[0m \u001b[38;5;250m\u001b[39m\u001b[38;5;124;03m\"\"\"\u001b[39;00m\n\u001b[1;32m    418\u001b[0m \u001b[38;5;124;03mInitialize SparkContext in function to allow subclass specific initialization\u001b[39;00m\n\u001b[1;32m    419\u001b[0m \u001b[38;5;124;03m\"\"\"\u001b[39;00m\n\u001b[1;32m    420\u001b[0m \u001b[38;5;28;01massert\u001b[39;00m \u001b[38;5;28mself\u001b[39m\u001b[38;5;241m.\u001b[39m_jvm \u001b[38;5;129;01mis\u001b[39;00m \u001b[38;5;129;01mnot\u001b[39;00m \u001b[38;5;28;01mNone\u001b[39;00m\n\u001b[0;32m--> 421\u001b[0m \u001b[38;5;28;01mreturn\u001b[39;00m \u001b[38;5;28mself\u001b[39m\u001b[38;5;241m.\u001b[39m_jvm\u001b[38;5;241m.\u001b[39mJavaSparkContext(jconf)\n",
      "File \u001b[0;32m/opt/anaconda3/lib/python3.12/site-packages/py4j/java_gateway.py:1587\u001b[0m, in \u001b[0;36mJavaClass.__call__\u001b[0;34m(self, *args)\u001b[0m\n\u001b[1;32m   1581\u001b[0m command \u001b[38;5;241m=\u001b[39m proto\u001b[38;5;241m.\u001b[39mCONSTRUCTOR_COMMAND_NAME \u001b[38;5;241m+\u001b[39m\\\n\u001b[1;32m   1582\u001b[0m     \u001b[38;5;28mself\u001b[39m\u001b[38;5;241m.\u001b[39m_command_header \u001b[38;5;241m+\u001b[39m\\\n\u001b[1;32m   1583\u001b[0m     args_command \u001b[38;5;241m+\u001b[39m\\\n\u001b[1;32m   1584\u001b[0m     proto\u001b[38;5;241m.\u001b[39mEND_COMMAND_PART\n\u001b[1;32m   1586\u001b[0m answer \u001b[38;5;241m=\u001b[39m \u001b[38;5;28mself\u001b[39m\u001b[38;5;241m.\u001b[39m_gateway_client\u001b[38;5;241m.\u001b[39msend_command(command)\n\u001b[0;32m-> 1587\u001b[0m return_value \u001b[38;5;241m=\u001b[39m get_return_value(\n\u001b[1;32m   1588\u001b[0m     answer, \u001b[38;5;28mself\u001b[39m\u001b[38;5;241m.\u001b[39m_gateway_client, \u001b[38;5;28;01mNone\u001b[39;00m, \u001b[38;5;28mself\u001b[39m\u001b[38;5;241m.\u001b[39m_fqn)\n\u001b[1;32m   1590\u001b[0m \u001b[38;5;28;01mfor\u001b[39;00m temp_arg \u001b[38;5;129;01min\u001b[39;00m temp_args:\n\u001b[1;32m   1591\u001b[0m     \u001b[38;5;28;01mif\u001b[39;00m \u001b[38;5;28mhasattr\u001b[39m(temp_arg, \u001b[38;5;124m\"\u001b[39m\u001b[38;5;124m_detach\u001b[39m\u001b[38;5;124m\"\u001b[39m):\n",
      "File \u001b[0;32m/opt/anaconda3/lib/python3.12/site-packages/py4j/protocol.py:326\u001b[0m, in \u001b[0;36mget_return_value\u001b[0;34m(answer, gateway_client, target_id, name)\u001b[0m\n\u001b[1;32m    324\u001b[0m value \u001b[38;5;241m=\u001b[39m OUTPUT_CONVERTER[\u001b[38;5;28mtype\u001b[39m](answer[\u001b[38;5;241m2\u001b[39m:], gateway_client)\n\u001b[1;32m    325\u001b[0m \u001b[38;5;28;01mif\u001b[39;00m answer[\u001b[38;5;241m1\u001b[39m] \u001b[38;5;241m==\u001b[39m REFERENCE_TYPE:\n\u001b[0;32m--> 326\u001b[0m     \u001b[38;5;28;01mraise\u001b[39;00m Py4JJavaError(\n\u001b[1;32m    327\u001b[0m         \u001b[38;5;124m\"\u001b[39m\u001b[38;5;124mAn error occurred while calling \u001b[39m\u001b[38;5;132;01m{0}\u001b[39;00m\u001b[38;5;132;01m{1}\u001b[39;00m\u001b[38;5;132;01m{2}\u001b[39;00m\u001b[38;5;124m.\u001b[39m\u001b[38;5;130;01m\\n\u001b[39;00m\u001b[38;5;124m\"\u001b[39m\u001b[38;5;241m.\u001b[39m\n\u001b[1;32m    328\u001b[0m         \u001b[38;5;28mformat\u001b[39m(target_id, \u001b[38;5;124m\"\u001b[39m\u001b[38;5;124m.\u001b[39m\u001b[38;5;124m\"\u001b[39m, name), value)\n\u001b[1;32m    329\u001b[0m \u001b[38;5;28;01melse\u001b[39;00m:\n\u001b[1;32m    330\u001b[0m     \u001b[38;5;28;01mraise\u001b[39;00m Py4JError(\n\u001b[1;32m    331\u001b[0m         \u001b[38;5;124m\"\u001b[39m\u001b[38;5;124mAn error occurred while calling \u001b[39m\u001b[38;5;132;01m{0}\u001b[39;00m\u001b[38;5;132;01m{1}\u001b[39;00m\u001b[38;5;132;01m{2}\u001b[39;00m\u001b[38;5;124m. Trace:\u001b[39m\u001b[38;5;130;01m\\n\u001b[39;00m\u001b[38;5;132;01m{3}\u001b[39;00m\u001b[38;5;130;01m\\n\u001b[39;00m\u001b[38;5;124m\"\u001b[39m\u001b[38;5;241m.\u001b[39m\n\u001b[1;32m    332\u001b[0m         \u001b[38;5;28mformat\u001b[39m(target_id, \u001b[38;5;124m\"\u001b[39m\u001b[38;5;124m.\u001b[39m\u001b[38;5;124m\"\u001b[39m, name, value))\n",
      "\u001b[0;31mPy4JJavaError\u001b[0m: An error occurred while calling None.org.apache.spark.api.java.JavaSparkContext.\n: java.lang.UnsupportedOperationException: getSubject is supported only if a security manager is allowed\n\tat java.base/javax.security.auth.Subject.getSubject(Subject.java:347)\n\tat org.apache.hadoop.security.UserGroupInformation.getCurrentUser(UserGroupInformation.java:577)\n\tat org.apache.spark.util.Utils$.$anonfun$getCurrentUserName$1(Utils.scala:2416)\n\tat scala.Option.getOrElse(Option.scala:189)\n\tat org.apache.spark.util.Utils$.getCurrentUserName(Utils.scala:2416)\n\tat org.apache.spark.SparkContext.<init>(SparkContext.scala:329)\n\tat org.apache.spark.api.java.JavaSparkContext.<init>(JavaSparkContext.scala:58)\n\tat java.base/jdk.internal.reflect.DirectConstructorHandleAccessor.newInstance(DirectConstructorHandleAccessor.java:62)\n\tat java.base/java.lang.reflect.Constructor.newInstanceWithCaller(Constructor.java:501)\n\tat java.base/java.lang.reflect.Constructor.newInstance(Constructor.java:485)\n\tat py4j.reflection.MethodInvoker.invoke(MethodInvoker.java:247)\n\tat py4j.reflection.ReflectionEngine.invoke(ReflectionEngine.java:374)\n\tat py4j.Gateway.invoke(Gateway.java:238)\n\tat py4j.commands.ConstructorCommand.invokeConstructor(ConstructorCommand.java:80)\n\tat py4j.commands.ConstructorCommand.execute(ConstructorCommand.java:69)\n\tat py4j.ClientServerConnection.waitForCommands(ClientServerConnection.java:182)\n\tat py4j.ClientServerConnection.run(ClientServerConnection.java:106)\n\tat java.base/java.lang.Thread.run(Thread.java:1575)\n"
     ]
    }
   ],
   "source": [
    "from pyspark.sql import SparkSession\n",
    "\n",
    "spark = SparkSession.builder \\\n",
    "    .appName(\"MinIO Integration\") \\\n",
    "    .config(\"spark.jars.packages\", \"org.apache.hadoop:hadoop-aws:3.3.1\") \\\n",
    "    .config(\"fs.s3a.impl\", \"org.apache.hadoop.fs.s3a.S3AFileSystem\") \\\n",
    "    .config(\"fs.s3a.path.style.access\", \"true\") \\\n",
    "    .config(\"fs.s3a.endpoint\", \"http://127.0.0.1:52076\") \\\n",
    "    .config(\"fs.s3a.access.key\", \"minioadmin\") \\\n",
    "    .config(\"fs.s3a.secret.key\", \"minioadmin\") \\\n",
    "    .config(\"hadoop.security.authentication\", \"none\") \\\n",
    "    .config(\"hadoop.security.authorization\", \"false\") \\\n",
    "    .config(\"spark.hadoop.fs.s3a.aws.credentials.provider\", \"org.apache.hadoop.fs.s3a.SimpleAWSCredentialsProvider\") \\\n",
    "    .getOrCreate()"
   ]
  },
  {
   "cell_type": "code",
   "execution_count": 52,
   "id": "2e722010",
   "metadata": {},
   "outputs": [
    {
     "ename": "SyntaxError",
     "evalue": "unexpected character after line continuation character (2104100170.py, line 8)",
     "output_type": "error",
     "traceback": [
      "\u001b[0;36m  Cell \u001b[0;32mIn[52], line 8\u001b[0;36m\u001b[0m\n\u001b[0;31m    .config(\"fs.s3a.endpoint\", \"http://127.0.0.1:9000\") \\  # Pastikan portnya benar\u001b[0m\n\u001b[0m                                                                                   \n^\u001b[0m\n\u001b[0;31mSyntaxError\u001b[0m\u001b[0;31m:\u001b[0m unexpected character after line continuation character\n"
     ]
    }
   ],
   "source": [
    "from pyspark.sql import SparkSession\n",
    "\n",
    "spark = SparkSession.builder \\\n",
    "    .appName(\"MinIO Integration\") \\\n",
    "    .config(\"spark.jars.packages\", \"org.apache.hadoop:hadoop-aws:3.2.0\") \\\n",
    "    .config(\"fs.s3a.impl\", \"org.apache.hadoop.fs.s3a.S3AFileSystem\") \\\n",
    "    .config(\"fs.s3a.path.style.access\", \"true\") \\\n",
    "    .config(\"fs.s3a.endpoint\", \"http://127.0.0.1:9000\") \\  # Pastikan portnya benar\n",
    "    .config(\"fs.s3a.access.key\", \"minioadmin\") \\\n",
    "    .config(\"fs.s3a.secret.key\", \"minioadmin\") \\\n",
    "    .config(\"spark.hadoop.security.authentication\", \"simple\") \\\n",
    "    .config(\"spark.hadoop.security.authorization\", \"false\") \\\n",
    "    .config(\"spark.hadoop.fs.s3a.aws.credentials.provider\", \"org.apache.hadoop.fs.s3a.SimpleAWSCredentialsProvider\") \\\n",
    "    .getOrCreate()\n"
   ]
  },
  {
   "cell_type": "code",
   "execution_count": 57,
   "id": "278bd216",
   "metadata": {},
   "outputs": [
    {
     "name": "stderr",
     "output_type": "stream",
     "text": [
      "python(84631) MallocStackLogging: can't turn off malloc stack logging because it was not enabled.\n"
     ]
    },
    {
     "name": "stdout",
     "output_type": "stream",
     "text": [
      "Collecting boto3\n",
      "  Downloading boto3-1.35.76-py3-none-any.whl.metadata (6.7 kB)\n",
      "Collecting botocore<1.36.0,>=1.35.76 (from boto3)\n",
      "  Downloading botocore-1.35.76-py3-none-any.whl.metadata (5.7 kB)\n",
      "Requirement already satisfied: jmespath<2.0.0,>=0.7.1 in /opt/anaconda3/lib/python3.12/site-packages (from boto3) (1.0.1)\n",
      "Collecting s3transfer<0.11.0,>=0.10.0 (from boto3)\n",
      "  Using cached s3transfer-0.10.4-py3-none-any.whl.metadata (1.7 kB)\n",
      "Requirement already satisfied: python-dateutil<3.0.0,>=2.1 in /opt/anaconda3/lib/python3.12/site-packages (from botocore<1.36.0,>=1.35.76->boto3) (2.9.0.post0)\n",
      "Requirement already satisfied: urllib3!=2.2.0,<3,>=1.25.4 in /opt/anaconda3/lib/python3.12/site-packages (from botocore<1.36.0,>=1.35.76->boto3) (2.2.3)\n",
      "Requirement already satisfied: six>=1.5 in /opt/anaconda3/lib/python3.12/site-packages (from python-dateutil<3.0.0,>=2.1->botocore<1.36.0,>=1.35.76->boto3) (1.16.0)\n",
      "Downloading boto3-1.35.76-py3-none-any.whl (139 kB)\n",
      "Downloading botocore-1.35.76-py3-none-any.whl (13.2 MB)\n",
      "\u001b[2K   \u001b[90m━━━━━━━━━━━━━━━━━━━━━━━━━━━━━━━━━━━━━━━━\u001b[0m \u001b[32m13.2/13.2 MB\u001b[0m \u001b[31m8.3 MB/s\u001b[0m eta \u001b[36m0:00:00\u001b[0ma \u001b[36m0:00:01\u001b[0m\n",
      "\u001b[?25hUsing cached s3transfer-0.10.4-py3-none-any.whl (83 kB)\n",
      "Installing collected packages: botocore, s3transfer, boto3\n",
      "  Attempting uninstall: botocore\n",
      "    Found existing installation: botocore 1.34.69\n",
      "    Uninstalling botocore-1.34.69:\n",
      "      Successfully uninstalled botocore-1.34.69\n",
      "\u001b[31mERROR: pip's dependency resolver does not currently take into account all the packages that are installed. This behaviour is the source of the following dependency conflicts.\n",
      "aiobotocore 2.12.3 requires botocore<1.34.70,>=1.34.41, but you have botocore 1.35.76 which is incompatible.\u001b[0m\u001b[31m\n",
      "\u001b[0mSuccessfully installed boto3-1.35.76 botocore-1.35.76 s3transfer-0.10.4\n",
      "Note: you may need to restart the kernel to use updated packages.\n"
     ]
    }
   ],
   "source": [
    "pip install boto3"
   ]
  },
  {
   "cell_type": "code",
   "execution_count": 58,
   "id": "76161443",
   "metadata": {},
   "outputs": [
    {
     "name": "stderr",
     "output_type": "stream",
     "text": [
      "python(84635) MallocStackLogging: can't turn off malloc stack logging because it was not enabled.\n"
     ]
    },
    {
     "name": "stdout",
     "output_type": "stream",
     "text": [
      "Name: boto3\n",
      "Version: 1.35.76\n",
      "Summary: The AWS SDK for Python\n",
      "Home-page: https://github.com/boto/boto3\n",
      "Author: Amazon Web Services\n",
      "Author-email: \n",
      "License: Apache License 2.0\n",
      "Location: /opt/anaconda3/lib/python3.12/site-packages\n",
      "Requires: botocore, jmespath, s3transfer\n",
      "Required-by: \n",
      "Note: you may need to restart the kernel to use updated packages.\n"
     ]
    }
   ],
   "source": [
    "pip show boto3"
   ]
  },
  {
   "cell_type": "code",
   "execution_count": 68,
   "id": "587cc6ae",
   "metadata": {},
   "outputs": [
    {
     "name": "stderr",
     "output_type": "stream",
     "text": [
      "python(85124) MallocStackLogging: can't turn off malloc stack logging because it was not enabled.\n"
     ]
    },
    {
     "name": "stdout",
     "output_type": "stream",
     "text": [
      "Requirement already satisfied: pandas in /opt/anaconda3/lib/python3.12/site-packages (2.2.2)\n",
      "Requirement already satisfied: numpy in /opt/anaconda3/lib/python3.12/site-packages (1.26.4)\n",
      "Requirement already satisfied: seaborn in /opt/anaconda3/lib/python3.12/site-packages (0.13.2)\n",
      "Requirement already satisfied: matplotlib in /opt/anaconda3/lib/python3.12/site-packages (3.9.2)\n",
      "Requirement already satisfied: scikit-learn in /opt/anaconda3/lib/python3.12/site-packages (1.5.1)\n",
      "Collecting xgboost\n",
      "  Downloading xgboost-2.1.3-py3-none-macosx_12_0_arm64.whl.metadata (2.1 kB)\n",
      "Requirement already satisfied: joblib in /opt/anaconda3/lib/python3.12/site-packages (1.4.2)\n",
      "Requirement already satisfied: boto3 in /opt/anaconda3/lib/python3.12/site-packages (1.35.76)\n",
      "Requirement already satisfied: python-dateutil>=2.8.2 in /opt/anaconda3/lib/python3.12/site-packages (from pandas) (2.9.0.post0)\n",
      "Requirement already satisfied: pytz>=2020.1 in /opt/anaconda3/lib/python3.12/site-packages (from pandas) (2024.1)\n",
      "Requirement already satisfied: tzdata>=2022.7 in /opt/anaconda3/lib/python3.12/site-packages (from pandas) (2023.3)\n",
      "Requirement already satisfied: contourpy>=1.0.1 in /opt/anaconda3/lib/python3.12/site-packages (from matplotlib) (1.2.0)\n",
      "Requirement already satisfied: cycler>=0.10 in /opt/anaconda3/lib/python3.12/site-packages (from matplotlib) (0.11.0)\n",
      "Requirement already satisfied: fonttools>=4.22.0 in /opt/anaconda3/lib/python3.12/site-packages (from matplotlib) (4.51.0)\n",
      "Requirement already satisfied: kiwisolver>=1.3.1 in /opt/anaconda3/lib/python3.12/site-packages (from matplotlib) (1.4.4)\n",
      "Requirement already satisfied: packaging>=20.0 in /opt/anaconda3/lib/python3.12/site-packages (from matplotlib) (24.1)\n",
      "Requirement already satisfied: pillow>=8 in /opt/anaconda3/lib/python3.12/site-packages (from matplotlib) (10.4.0)\n",
      "Requirement already satisfied: pyparsing>=2.3.1 in /opt/anaconda3/lib/python3.12/site-packages (from matplotlib) (3.1.2)\n",
      "Requirement already satisfied: scipy>=1.6.0 in /opt/anaconda3/lib/python3.12/site-packages (from scikit-learn) (1.13.1)\n",
      "Requirement already satisfied: threadpoolctl>=3.1.0 in /opt/anaconda3/lib/python3.12/site-packages (from scikit-learn) (3.5.0)\n",
      "Requirement already satisfied: botocore<1.36.0,>=1.35.76 in /opt/anaconda3/lib/python3.12/site-packages (from boto3) (1.35.76)\n",
      "Requirement already satisfied: jmespath<2.0.0,>=0.7.1 in /opt/anaconda3/lib/python3.12/site-packages (from boto3) (1.0.1)\n",
      "Requirement already satisfied: s3transfer<0.11.0,>=0.10.0 in /opt/anaconda3/lib/python3.12/site-packages (from boto3) (0.10.4)\n",
      "Requirement already satisfied: urllib3!=2.2.0,<3,>=1.25.4 in /opt/anaconda3/lib/python3.12/site-packages (from botocore<1.36.0,>=1.35.76->boto3) (2.2.3)\n",
      "Requirement already satisfied: six>=1.5 in /opt/anaconda3/lib/python3.12/site-packages (from python-dateutil>=2.8.2->pandas) (1.16.0)\n",
      "Downloading xgboost-2.1.3-py3-none-macosx_12_0_arm64.whl (1.9 MB)\n",
      "\u001b[2K   \u001b[90m━━━━━━━━━━━━━━━━━━━━━━━━━━━━━━━━━━━━━━━━\u001b[0m \u001b[32m1.9/1.9 MB\u001b[0m \u001b[31m9.2 MB/s\u001b[0m eta \u001b[36m0:00:00\u001b[0ma \u001b[36m0:00:01\u001b[0m\n",
      "\u001b[?25hInstalling collected packages: xgboost\n",
      "Successfully installed xgboost-2.1.3\n",
      "Note: you may need to restart the kernel to use updated packages.\n"
     ]
    }
   ],
   "source": [
    "pip install pandas numpy seaborn matplotlib scikit-learn xgboost joblib boto3"
   ]
  },
  {
   "cell_type": "code",
   "execution_count": 125,
   "id": "4086428b",
   "metadata": {},
   "outputs": [],
   "source": [
    "import pandas as pd\n",
    "import numpy as np\n",
    "import seaborn as sns\n",
    "import matplotlib.pyplot as plt\n",
    "from sklearn.impute import SimpleImputer\n",
    "from sklearn.model_selection import train_test_split\n",
    "from sklearn.preprocessing import MinMaxScaler\n",
    "from sklearn.ensemble import RandomForestRegressor\n",
    "from sklearn.metrics import mean_absolute_error, mean_squared_error, r2_score\n",
    "import joblib\n",
    "import boto3\n",
    "from io import StringIO"
   ]
  },
  {
   "cell_type": "code",
   "execution_count": 131,
   "id": "34f9f838",
   "metadata": {},
   "outputs": [],
   "source": [
    "# Inisialisasi klien MinIO\n",
    "minio_client = boto3.client('s3',\n",
    "                             endpoint_url='http://localhost:9000',\n",
    "                             aws_access_key_id='minioadmin',\n",
    "                             aws_secret_access_key='minioadmin')\n",
    "\n",
    "# Menampilkan daftar objek di bucket\n",
    "bucket_name = 'ebay'\n",
    "response = minio_client.list_objects_v2(Bucket=bucket_name)"
   ]
  },
  {
   "cell_type": "code",
   "execution_count": 132,
   "id": "defee019",
   "metadata": {},
   "outputs": [
    {
     "name": "stdout",
     "output_type": "stream",
     "text": [
      "Daftar objek di bucket:\n",
      "batch_20241210_145557.csv\n",
      "batch_20241210_145558.csv\n",
      "batch_20241210_145559.csv\n",
      "batch_20241210_145600.csv\n",
      "batch_20241210_145601.csv\n",
      "batch_20241210_145602.csv\n",
      "batch_20241210_145604.csv\n",
      "batch_20241210_145605.csv\n",
      "Kolom yang tersedia di batch_20241210_145557.csv: ['b2c_c2c', 'seller_id', 'declared_handling_days', 'shipment_method_id', 'item_zip', 'buyer_zip', 'category_id', 'item_price', 'quantity', 'weight', 'package_size', 'zip_distance', 'shipping_fee', 'delivery_date', 'acceptance_date', 'timestamp']\n",
      "Kolom yang tersedia di batch_20241210_145558.csv: ['b2c_c2c', 'seller_id', 'declared_handling_days', 'shipment_method_id', 'item_zip', 'buyer_zip', 'category_id', 'item_price', 'quantity', 'weight', 'package_size', 'zip_distance', 'shipping_fee', 'delivery_date', 'acceptance_date', 'timestamp']\n",
      "Kolom yang tersedia di batch_20241210_145559.csv: ['b2c_c2c', 'seller_id', 'declared_handling_days', 'shipment_method_id', 'item_zip', 'buyer_zip', 'category_id', 'item_price', 'quantity', 'weight', 'package_size', 'zip_distance', 'shipping_fee', 'delivery_date', 'acceptance_date', 'timestamp']\n",
      "Kolom yang tersedia di batch_20241210_145600.csv: ['b2c_c2c', 'seller_id', 'declared_handling_days', 'shipment_method_id', 'item_zip', 'buyer_zip', 'category_id', 'item_price', 'quantity', 'weight', 'package_size', 'zip_distance', 'shipping_fee', 'delivery_date', 'acceptance_date', 'timestamp']\n",
      "Kolom yang tersedia di batch_20241210_145601.csv: ['b2c_c2c', 'seller_id', 'declared_handling_days', 'shipment_method_id', 'item_zip', 'buyer_zip', 'category_id', 'item_price', 'quantity', 'weight', 'package_size', 'zip_distance', 'shipping_fee', 'delivery_date', 'acceptance_date', 'timestamp']\n",
      "Kolom yang tersedia di batch_20241210_145602.csv: ['b2c_c2c', 'seller_id', 'declared_handling_days', 'shipment_method_id', 'item_zip', 'buyer_zip', 'category_id', 'item_price', 'quantity', 'weight', 'package_size', 'zip_distance', 'shipping_fee', 'delivery_date', 'acceptance_date', 'timestamp']\n",
      "Kolom yang tersedia di batch_20241210_145604.csv: ['b2c_c2c', 'seller_id', 'declared_handling_days', 'shipment_method_id', 'item_zip', 'buyer_zip', 'category_id', 'item_price', 'quantity', 'weight', 'package_size', 'zip_distance', 'shipping_fee', 'delivery_date', 'acceptance_date', 'timestamp']\n",
      "Kolom yang tersedia di batch_20241210_145605.csv: ['b2c_c2c', 'seller_id', 'declared_handling_days', 'shipment_method_id', 'item_zip', 'buyer_zip', 'category_id', 'item_price', 'quantity', 'weight', 'package_size', 'zip_distance', 'shipping_fee', 'delivery_date', 'acceptance_date', 'timestamp']\n"
     ]
    }
   ],
   "source": [
    "# Mengambil semua objek yang relevan\n",
    "files = []\n",
    "for obj in response.get('Contents', []):\n",
    "    if 'batch_' in obj['Key']:\n",
    "        files.append(obj['Key'])\n",
    "\n",
    "print(\"Daftar objek di bucket:\")\n",
    "for file_key in files:\n",
    "    print(file_key)\n",
    "\n",
    "# Menyimpan hasil evaluasi dari setiap batch\n",
    "batch_results = {}\n",
    "\n",
    "for file_key in files:\n",
    "    # Mengambil file dari MinIO\n",
    "    response = minio_client.get_object(Bucket=bucket_name, Key=file_key)\n",
    "    df = pd.read_csv(response['Body'])\n",
    "    \n",
    "    # Cek kolom yang tersedia\n",
    "    print(f\"Kolom yang tersedia di {file_key}: {df.columns.tolist()}\")\n",
    "\n",
    "    # Memilih kolom yang relevan\n",
    "    selected_columns = [\n",
    "        \"b2c_c2c\", \"seller_id\", \"declared_handling_days\", \n",
    "        \"shipment_method_id\", \"item_zip\", \"buyer_zip\", \n",
    "        \"category_id\", \"item_price\", \"quantity\", \n",
    "        \"weight\", \"package_size\", \"zip_distance\", \n",
    "        \"shipping_fee\", \"delivery_date\", \"acceptance_date\"\n",
    "    ]"
   ]
  },
  {
   "cell_type": "code",
   "execution_count": 134,
   "id": "542d017d",
   "metadata": {},
   "outputs": [
    {
     "name": "stdout",
     "output_type": "stream",
     "text": [
      "Daftar objek di bucket:\n",
      "batch_20241210_145557.csv\n",
      "batch_20241210_145558.csv\n",
      "batch_20241210_145559.csv\n",
      "batch_20241210_145600.csv\n",
      "batch_20241210_145601.csv\n",
      "batch_20241210_145602.csv\n",
      "batch_20241210_145604.csv\n",
      "batch_20241210_145605.csv\n",
      "Kolom yang tersedia di batch_20241210_145557.csv: ['b2c_c2c', 'seller_id', 'declared_handling_days', 'shipment_method_id', 'item_zip', 'buyer_zip', 'category_id', 'item_price', 'quantity', 'weight', 'package_size', 'zip_distance', 'shipping_fee', 'delivery_date', 'acceptance_date', 'timestamp']\n"
     ]
    },
    {
     "name": "stderr",
     "output_type": "stream",
     "text": [
      "/opt/anaconda3/lib/python3.12/site-packages/sklearn/metrics/_regression.py:492: FutureWarning: 'squared' is deprecated in version 1.4 and will be removed in 1.6. To calculate the root mean squared error, use the function'root_mean_squared_error'.\n",
      "  warnings.warn(\n",
      "/opt/anaconda3/lib/python3.12/site-packages/sklearn/metrics/_regression.py:492: FutureWarning: 'squared' is deprecated in version 1.4 and will be removed in 1.6. To calculate the root mean squared error, use the function'root_mean_squared_error'.\n",
      "  warnings.warn(\n"
     ]
    },
    {
     "name": "stdout",
     "output_type": "stream",
     "text": [
      "Kolom yang tersedia di batch_20241210_145558.csv: ['b2c_c2c', 'seller_id', 'declared_handling_days', 'shipment_method_id', 'item_zip', 'buyer_zip', 'category_id', 'item_price', 'quantity', 'weight', 'package_size', 'zip_distance', 'shipping_fee', 'delivery_date', 'acceptance_date', 'timestamp']\n"
     ]
    },
    {
     "name": "stderr",
     "output_type": "stream",
     "text": [
      "/opt/anaconda3/lib/python3.12/site-packages/sklearn/metrics/_regression.py:492: FutureWarning: 'squared' is deprecated in version 1.4 and will be removed in 1.6. To calculate the root mean squared error, use the function'root_mean_squared_error'.\n",
      "  warnings.warn(\n",
      "/opt/anaconda3/lib/python3.12/site-packages/sklearn/metrics/_regression.py:492: FutureWarning: 'squared' is deprecated in version 1.4 and will be removed in 1.6. To calculate the root mean squared error, use the function'root_mean_squared_error'.\n",
      "  warnings.warn(\n"
     ]
    },
    {
     "name": "stdout",
     "output_type": "stream",
     "text": [
      "Kolom yang tersedia di batch_20241210_145559.csv: ['b2c_c2c', 'seller_id', 'declared_handling_days', 'shipment_method_id', 'item_zip', 'buyer_zip', 'category_id', 'item_price', 'quantity', 'weight', 'package_size', 'zip_distance', 'shipping_fee', 'delivery_date', 'acceptance_date', 'timestamp']\n"
     ]
    },
    {
     "name": "stderr",
     "output_type": "stream",
     "text": [
      "/opt/anaconda3/lib/python3.12/site-packages/sklearn/metrics/_regression.py:492: FutureWarning: 'squared' is deprecated in version 1.4 and will be removed in 1.6. To calculate the root mean squared error, use the function'root_mean_squared_error'.\n",
      "  warnings.warn(\n",
      "/opt/anaconda3/lib/python3.12/site-packages/sklearn/metrics/_regression.py:492: FutureWarning: 'squared' is deprecated in version 1.4 and will be removed in 1.6. To calculate the root mean squared error, use the function'root_mean_squared_error'.\n",
      "  warnings.warn(\n"
     ]
    },
    {
     "name": "stdout",
     "output_type": "stream",
     "text": [
      "Kolom yang tersedia di batch_20241210_145600.csv: ['b2c_c2c', 'seller_id', 'declared_handling_days', 'shipment_method_id', 'item_zip', 'buyer_zip', 'category_id', 'item_price', 'quantity', 'weight', 'package_size', 'zip_distance', 'shipping_fee', 'delivery_date', 'acceptance_date', 'timestamp']\n"
     ]
    },
    {
     "name": "stderr",
     "output_type": "stream",
     "text": [
      "/opt/anaconda3/lib/python3.12/site-packages/sklearn/metrics/_regression.py:492: FutureWarning: 'squared' is deprecated in version 1.4 and will be removed in 1.6. To calculate the root mean squared error, use the function'root_mean_squared_error'.\n",
      "  warnings.warn(\n",
      "/opt/anaconda3/lib/python3.12/site-packages/sklearn/metrics/_regression.py:492: FutureWarning: 'squared' is deprecated in version 1.4 and will be removed in 1.6. To calculate the root mean squared error, use the function'root_mean_squared_error'.\n",
      "  warnings.warn(\n"
     ]
    },
    {
     "name": "stdout",
     "output_type": "stream",
     "text": [
      "Kolom yang tersedia di batch_20241210_145601.csv: ['b2c_c2c', 'seller_id', 'declared_handling_days', 'shipment_method_id', 'item_zip', 'buyer_zip', 'category_id', 'item_price', 'quantity', 'weight', 'package_size', 'zip_distance', 'shipping_fee', 'delivery_date', 'acceptance_date', 'timestamp']\n"
     ]
    },
    {
     "name": "stderr",
     "output_type": "stream",
     "text": [
      "/opt/anaconda3/lib/python3.12/site-packages/sklearn/metrics/_regression.py:492: FutureWarning: 'squared' is deprecated in version 1.4 and will be removed in 1.6. To calculate the root mean squared error, use the function'root_mean_squared_error'.\n",
      "  warnings.warn(\n",
      "/opt/anaconda3/lib/python3.12/site-packages/sklearn/metrics/_regression.py:492: FutureWarning: 'squared' is deprecated in version 1.4 and will be removed in 1.6. To calculate the root mean squared error, use the function'root_mean_squared_error'.\n",
      "  warnings.warn(\n"
     ]
    },
    {
     "name": "stdout",
     "output_type": "stream",
     "text": [
      "Kolom yang tersedia di batch_20241210_145602.csv: ['b2c_c2c', 'seller_id', 'declared_handling_days', 'shipment_method_id', 'item_zip', 'buyer_zip', 'category_id', 'item_price', 'quantity', 'weight', 'package_size', 'zip_distance', 'shipping_fee', 'delivery_date', 'acceptance_date', 'timestamp']\n"
     ]
    },
    {
     "name": "stderr",
     "output_type": "stream",
     "text": [
      "/opt/anaconda3/lib/python3.12/site-packages/sklearn/metrics/_regression.py:492: FutureWarning: 'squared' is deprecated in version 1.4 and will be removed in 1.6. To calculate the root mean squared error, use the function'root_mean_squared_error'.\n",
      "  warnings.warn(\n",
      "/opt/anaconda3/lib/python3.12/site-packages/sklearn/metrics/_regression.py:492: FutureWarning: 'squared' is deprecated in version 1.4 and will be removed in 1.6. To calculate the root mean squared error, use the function'root_mean_squared_error'.\n",
      "  warnings.warn(\n"
     ]
    },
    {
     "name": "stdout",
     "output_type": "stream",
     "text": [
      "Kolom yang tersedia di batch_20241210_145604.csv: ['b2c_c2c', 'seller_id', 'declared_handling_days', 'shipment_method_id', 'item_zip', 'buyer_zip', 'category_id', 'item_price', 'quantity', 'weight', 'package_size', 'zip_distance', 'shipping_fee', 'delivery_date', 'acceptance_date', 'timestamp']\n"
     ]
    },
    {
     "name": "stderr",
     "output_type": "stream",
     "text": [
      "/opt/anaconda3/lib/python3.12/site-packages/sklearn/metrics/_regression.py:492: FutureWarning: 'squared' is deprecated in version 1.4 and will be removed in 1.6. To calculate the root mean squared error, use the function'root_mean_squared_error'.\n",
      "  warnings.warn(\n",
      "/opt/anaconda3/lib/python3.12/site-packages/sklearn/metrics/_regression.py:492: FutureWarning: 'squared' is deprecated in version 1.4 and will be removed in 1.6. To calculate the root mean squared error, use the function'root_mean_squared_error'.\n",
      "  warnings.warn(\n"
     ]
    },
    {
     "name": "stdout",
     "output_type": "stream",
     "text": [
      "Kolom yang tersedia di batch_20241210_145605.csv: ['b2c_c2c', 'seller_id', 'declared_handling_days', 'shipment_method_id', 'item_zip', 'buyer_zip', 'category_id', 'item_price', 'quantity', 'weight', 'package_size', 'zip_distance', 'shipping_fee', 'delivery_date', 'acceptance_date', 'timestamp']\n"
     ]
    },
    {
     "name": "stderr",
     "output_type": "stream",
     "text": [
      "/opt/anaconda3/lib/python3.12/site-packages/sklearn/metrics/_regression.py:492: FutureWarning: 'squared' is deprecated in version 1.4 and will be removed in 1.6. To calculate the root mean squared error, use the function'root_mean_squared_error'.\n",
      "  warnings.warn(\n"
     ]
    },
    {
     "name": "stdout",
     "output_type": "stream",
     "text": [
      "Evaluasi untuk file batch_20241210_145557.csv:\n",
      "Shipping Fee - MAE: 1.84, RMSE: 4.31, R²: 0.61\n",
      "Shipping Duration - MAE: 0.93, RMSE: 1.46, R²: 0.12\n",
      "\n",
      "Evaluasi untuk file batch_20241210_145558.csv:\n",
      "Shipping Fee - MAE: 1.76, RMSE: 3.65, R²: 0.60\n",
      "Shipping Duration - MAE: 0.99, RMSE: 2.22, R²: 0.05\n",
      "\n",
      "Evaluasi untuk file batch_20241210_145559.csv:\n",
      "Shipping Fee - MAE: 1.77, RMSE: 4.18, R²: 0.65\n",
      "Shipping Duration - MAE: 0.94, RMSE: 1.48, R²: 0.14\n",
      "\n",
      "Evaluasi untuk file batch_20241210_145600.csv:\n",
      "Shipping Fee - MAE: 1.67, RMSE: 3.50, R²: 0.64\n",
      "Shipping Duration - MAE: 0.91, RMSE: 1.33, R²: 0.09\n",
      "\n",
      "Evaluasi untuk file batch_20241210_145601.csv:\n",
      "Shipping Fee - MAE: 1.81, RMSE: 4.80, R²: 0.56\n",
      "Shipping Duration - MAE: 0.95, RMSE: 1.57, R²: 0.05\n",
      "\n",
      "Evaluasi untuk file batch_20241210_145602.csv:\n",
      "Shipping Fee - MAE: 1.84, RMSE: 5.30, R²: 0.49\n",
      "Shipping Duration - MAE: 0.92, RMSE: 1.37, R²: 0.13\n",
      "\n",
      "Evaluasi untuk file batch_20241210_145604.csv:\n",
      "Shipping Fee - MAE: 1.71, RMSE: 3.59, R²: 0.65\n",
      "Shipping Duration - MAE: 0.96, RMSE: 1.51, R²: 0.08\n",
      "\n",
      "Evaluasi untuk file batch_20241210_145605.csv:\n",
      "Shipping Fee - MAE: 1.72, RMSE: 3.91, R²: 0.63\n",
      "Shipping Duration - MAE: 0.94, RMSE: 1.46, R²: 0.15\n",
      "\n"
     ]
    },
    {
     "name": "stderr",
     "output_type": "stream",
     "text": [
      "/opt/anaconda3/lib/python3.12/site-packages/sklearn/metrics/_regression.py:492: FutureWarning: 'squared' is deprecated in version 1.4 and will be removed in 1.6. To calculate the root mean squared error, use the function'root_mean_squared_error'.\n",
      "  warnings.warn(\n"
     ]
    }
   ],
   "source": [
    "import boto3\n",
    "import pandas as pd\n",
    "from sklearn.model_selection import train_test_split\n",
    "from sklearn.ensemble import RandomForestRegressor\n",
    "from sklearn.metrics import mean_absolute_error, mean_squared_error, r2_score\n",
    "import joblib\n",
    "\n",
    "# Inisialisasi klien MinIO\n",
    "minio_client = boto3.client('s3',\n",
    "                             endpoint_url='http://localhost:9000',\n",
    "                             aws_access_key_id='minioadmin',\n",
    "                             aws_secret_access_key='minioadmin')\n",
    "\n",
    "# Menampilkan daftar objek di bucket\n",
    "bucket_name = 'ebay'\n",
    "response = minio_client.list_objects_v2(Bucket=bucket_name)\n",
    "\n",
    "# Mengambil semua objek yang relevan\n",
    "files = []\n",
    "for obj in response.get('Contents', []):\n",
    "    if 'batch_' in obj['Key']:\n",
    "        files.append(obj['Key'])\n",
    "\n",
    "print(\"Daftar objek di bucket:\")\n",
    "for file_key in files:\n",
    "    print(file_key)\n",
    "\n",
    "# Menyimpan hasil evaluasi dari setiap batch\n",
    "batch_results = {}\n",
    "\n",
    "for file_key in files:\n",
    "    # Mengambil file dari MinIO\n",
    "    response = minio_client.get_object(Bucket=bucket_name, Key=file_key)\n",
    "    df = pd.read_csv(response['Body'])\n",
    "    \n",
    "    # Cek kolom yang tersedia\n",
    "    print(f\"Kolom yang tersedia di {file_key}: {df.columns.tolist()}\")\n",
    "\n",
    "    # Memilih kolom yang relevan\n",
    "    selected_columns = [\n",
    "        \"b2c_c2c\", \"seller_id\", \"declared_handling_days\", \n",
    "        \"shipment_method_id\", \"item_zip\", \"buyer_zip\", \n",
    "        \"category_id\", \"item_price\", \"quantity\", \n",
    "        \"weight\", \"package_size\", \"zip_distance\", \n",
    "        \"shipping_fee\", \"delivery_date\", \"acceptance_date\"\n",
    "    ]\n",
    "    \n",
    "    # Filter kolom yang ada\n",
    "    selected_columns = [col for col in selected_columns if col in df.columns]\n",
    "    df = df[selected_columns]\n",
    "\n",
    "    # Konversi kolom tanggal menjadi datetime\n",
    "    df[\"delivery_date\"] = pd.to_datetime(df[\"delivery_date\"])\n",
    "    df[\"acceptance_date\"] = pd.to_datetime(df[\"acceptance_date\"])\n",
    "    \n",
    "    # Hitung durasi pengiriman\n",
    "    df[\"shipping_duration\"] = (df[\"delivery_date\"] - df[\"acceptance_date\"]).dt.days\n",
    "    df.drop([\"delivery_date\", \"acceptance_date\"], axis=1, inplace=True)\n",
    "\n",
    "    # Pisahkan fitur (X) dan target (y)\n",
    "    X = df.drop([\"shipping_fee\", \"shipping_duration\"], axis=1)\n",
    "    y = df[[\"shipping_fee\", \"shipping_duration\"]]\n",
    "\n",
    "    # Pastikan y tidak kosong\n",
    "    if y.empty:\n",
    "        print(f\"Data target kosong untuk file {file_key}. Melanjutkan ke file berikutnya.\")\n",
    "        continue\n",
    "\n",
    "    # Pisahkan dataset menjadi data training dan testing\n",
    "    X_train, X_test, y_train, y_test = train_test_split(X, y, test_size=0.2, random_state=42)\n",
    "\n",
    "    # Model untuk prediksi shipping_fee\n",
    "    shipping_fee_model = RandomForestRegressor(n_estimators=100, random_state=42)\n",
    "    shipping_fee_model.fit(X_train, y_train[\"shipping_fee\"])\n",
    "\n",
    "    # Evaluasi model untuk shipping_fee\n",
    "    y_pred_fee = shipping_fee_model.predict(X_test)\n",
    "    mae_fee = mean_absolute_error(y_test[\"shipping_fee\"], y_pred_fee)\n",
    "    rmse_fee = mean_squared_error(y_test[\"shipping_fee\"], y_pred_fee, squared=False)\n",
    "    r2_fee = r2_score(y_test[\"shipping_fee\"], y_pred_fee)\n",
    "\n",
    "    # Model untuk prediksi shipping_duration\n",
    "    shipping_duration_model = RandomForestRegressor(n_estimators=100, random_state=42)\n",
    "    shipping_duration_model.fit(X_train, y_train[\"shipping_duration\"])\n",
    "\n",
    "    # Evaluasi model untuk shipping_duration\n",
    "    y_pred_duration = shipping_duration_model.predict(X_test)\n",
    "    mae_duration = mean_absolute_error(y_test[\"shipping_duration\"], y_pred_duration)\n",
    "    rmse_duration = mean_squared_error(y_test[\"shipping_duration\"], y_pred_duration, squared=False)\n",
    "    r2_duration = r2_score(y_test[\"shipping_duration\"], y_pred_duration)\n",
    "\n",
    "    # Simpan hasil evaluasi\n",
    "    batch_results[file_key] = {\n",
    "        \"fee_mae\": mae_fee,\n",
    "        \"fee_rmse\": rmse_fee,\n",
    "        \"fee_r2\": r2_fee,\n",
    "        \"duration_mae\": mae_duration,\n",
    "        \"duration_rmse\": rmse_duration,\n",
    "        \"duration_r2\": r2_duration\n",
    "    }\n",
    "\n",
    "    # Simpan model\n",
    "    joblib.dump(shipping_fee_model, f\"shipping_fee_model_{file_key}.pkl\")\n",
    "    joblib.dump(shipping_duration_model, f\"shipping_duration_model_{file_key}.pkl\")\n",
    "\n",
    "# Tampilkan hasil evaluasi untuk setiap batch\n",
    "for file_key, metrics in batch_results.items():\n",
    "    print(f\"Evaluasi untuk file {file_key}:\")\n",
    "    print(f\"Shipping Fee - MAE: {metrics['fee_mae']:.2f}, RMSE: {metrics['fee_rmse']:.2f}, R²: {metrics['fee_r2']:.2f}\")\n",
    "    print(f\"Shipping Duration - MAE: {metrics['duration_mae']:.2f}, RMSE: {metrics['duration_rmse']:.2f}, R²: {metrics['duration_r2']:.2f}\")\n",
    "    print()"
   ]
  },
  {
   "cell_type": "code",
   "execution_count": 135,
   "id": "45b785f1",
   "metadata": {},
   "outputs": [
    {
     "name": "stdout",
     "output_type": "stream",
     "text": [
      "Daftar objek di bucket:\n",
      "batch_1_20241210_152426.csv\n",
      "batch_2_20241210_152427.csv\n",
      "batch_3_20241210_152429.csv\n",
      "batch_4_20241210_152430.csv\n",
      "batch_5_20241210_152431.csv\n",
      "batch_6_20241210_152432.csv\n",
      "batch_7_20241210_152434.csv\n",
      "batch_8_20241210_152436.csv\n",
      "Kolom yang tersedia di batch_1_20241210_152426.csv: ['b2c_c2c', 'seller_id', 'declared_handling_days', 'shipment_method_id', 'item_zip', 'buyer_zip', 'category_id', 'item_price', 'quantity', 'weight', 'package_size', 'zip_distance', 'shipping_fee', 'delivery_date', 'acceptance_date', 'timestamp']\n"
     ]
    },
    {
     "name": "stderr",
     "output_type": "stream",
     "text": [
      "/opt/anaconda3/lib/python3.12/site-packages/sklearn/metrics/_regression.py:492: FutureWarning: 'squared' is deprecated in version 1.4 and will be removed in 1.6. To calculate the root mean squared error, use the function'root_mean_squared_error'.\n",
      "  warnings.warn(\n",
      "/opt/anaconda3/lib/python3.12/site-packages/sklearn/metrics/_regression.py:492: FutureWarning: 'squared' is deprecated in version 1.4 and will be removed in 1.6. To calculate the root mean squared error, use the function'root_mean_squared_error'.\n",
      "  warnings.warn(\n"
     ]
    },
    {
     "name": "stdout",
     "output_type": "stream",
     "text": [
      "Kolom yang tersedia di batch_2_20241210_152427.csv: ['b2c_c2c', 'seller_id', 'declared_handling_days', 'shipment_method_id', 'item_zip', 'buyer_zip', 'category_id', 'item_price', 'quantity', 'weight', 'package_size', 'zip_distance', 'shipping_fee', 'delivery_date', 'acceptance_date', 'timestamp']\n"
     ]
    },
    {
     "name": "stderr",
     "output_type": "stream",
     "text": [
      "/opt/anaconda3/lib/python3.12/site-packages/sklearn/metrics/_regression.py:492: FutureWarning: 'squared' is deprecated in version 1.4 and will be removed in 1.6. To calculate the root mean squared error, use the function'root_mean_squared_error'.\n",
      "  warnings.warn(\n",
      "/opt/anaconda3/lib/python3.12/site-packages/sklearn/metrics/_regression.py:492: FutureWarning: 'squared' is deprecated in version 1.4 and will be removed in 1.6. To calculate the root mean squared error, use the function'root_mean_squared_error'.\n",
      "  warnings.warn(\n"
     ]
    },
    {
     "name": "stdout",
     "output_type": "stream",
     "text": [
      "Kolom yang tersedia di batch_3_20241210_152429.csv: ['b2c_c2c', 'seller_id', 'declared_handling_days', 'shipment_method_id', 'item_zip', 'buyer_zip', 'category_id', 'item_price', 'quantity', 'weight', 'package_size', 'zip_distance', 'shipping_fee', 'delivery_date', 'acceptance_date', 'timestamp']\n"
     ]
    },
    {
     "name": "stderr",
     "output_type": "stream",
     "text": [
      "/opt/anaconda3/lib/python3.12/site-packages/sklearn/metrics/_regression.py:492: FutureWarning: 'squared' is deprecated in version 1.4 and will be removed in 1.6. To calculate the root mean squared error, use the function'root_mean_squared_error'.\n",
      "  warnings.warn(\n",
      "/opt/anaconda3/lib/python3.12/site-packages/sklearn/metrics/_regression.py:492: FutureWarning: 'squared' is deprecated in version 1.4 and will be removed in 1.6. To calculate the root mean squared error, use the function'root_mean_squared_error'.\n",
      "  warnings.warn(\n"
     ]
    },
    {
     "name": "stdout",
     "output_type": "stream",
     "text": [
      "Kolom yang tersedia di batch_4_20241210_152430.csv: ['b2c_c2c', 'seller_id', 'declared_handling_days', 'shipment_method_id', 'item_zip', 'buyer_zip', 'category_id', 'item_price', 'quantity', 'weight', 'package_size', 'zip_distance', 'shipping_fee', 'delivery_date', 'acceptance_date', 'timestamp']\n"
     ]
    },
    {
     "name": "stderr",
     "output_type": "stream",
     "text": [
      "/opt/anaconda3/lib/python3.12/site-packages/sklearn/metrics/_regression.py:492: FutureWarning: 'squared' is deprecated in version 1.4 and will be removed in 1.6. To calculate the root mean squared error, use the function'root_mean_squared_error'.\n",
      "  warnings.warn(\n",
      "/opt/anaconda3/lib/python3.12/site-packages/sklearn/metrics/_regression.py:492: FutureWarning: 'squared' is deprecated in version 1.4 and will be removed in 1.6. To calculate the root mean squared error, use the function'root_mean_squared_error'.\n",
      "  warnings.warn(\n"
     ]
    },
    {
     "name": "stdout",
     "output_type": "stream",
     "text": [
      "Kolom yang tersedia di batch_5_20241210_152431.csv: ['b2c_c2c', 'seller_id', 'declared_handling_days', 'shipment_method_id', 'item_zip', 'buyer_zip', 'category_id', 'item_price', 'quantity', 'weight', 'package_size', 'zip_distance', 'shipping_fee', 'delivery_date', 'acceptance_date', 'timestamp']\n"
     ]
    },
    {
     "name": "stderr",
     "output_type": "stream",
     "text": [
      "/opt/anaconda3/lib/python3.12/site-packages/sklearn/metrics/_regression.py:492: FutureWarning: 'squared' is deprecated in version 1.4 and will be removed in 1.6. To calculate the root mean squared error, use the function'root_mean_squared_error'.\n",
      "  warnings.warn(\n",
      "/opt/anaconda3/lib/python3.12/site-packages/sklearn/metrics/_regression.py:492: FutureWarning: 'squared' is deprecated in version 1.4 and will be removed in 1.6. To calculate the root mean squared error, use the function'root_mean_squared_error'.\n",
      "  warnings.warn(\n"
     ]
    },
    {
     "name": "stdout",
     "output_type": "stream",
     "text": [
      "Kolom yang tersedia di batch_6_20241210_152432.csv: ['b2c_c2c', 'seller_id', 'declared_handling_days', 'shipment_method_id', 'item_zip', 'buyer_zip', 'category_id', 'item_price', 'quantity', 'weight', 'package_size', 'zip_distance', 'shipping_fee', 'delivery_date', 'acceptance_date', 'timestamp']\n"
     ]
    },
    {
     "name": "stderr",
     "output_type": "stream",
     "text": [
      "/opt/anaconda3/lib/python3.12/site-packages/sklearn/metrics/_regression.py:492: FutureWarning: 'squared' is deprecated in version 1.4 and will be removed in 1.6. To calculate the root mean squared error, use the function'root_mean_squared_error'.\n",
      "  warnings.warn(\n",
      "/opt/anaconda3/lib/python3.12/site-packages/sklearn/metrics/_regression.py:492: FutureWarning: 'squared' is deprecated in version 1.4 and will be removed in 1.6. To calculate the root mean squared error, use the function'root_mean_squared_error'.\n",
      "  warnings.warn(\n"
     ]
    },
    {
     "name": "stdout",
     "output_type": "stream",
     "text": [
      "Kolom yang tersedia di batch_7_20241210_152434.csv: ['b2c_c2c', 'seller_id', 'declared_handling_days', 'shipment_method_id', 'item_zip', 'buyer_zip', 'category_id', 'item_price', 'quantity', 'weight', 'package_size', 'zip_distance', 'shipping_fee', 'delivery_date', 'acceptance_date', 'timestamp']\n"
     ]
    },
    {
     "name": "stderr",
     "output_type": "stream",
     "text": [
      "/opt/anaconda3/lib/python3.12/site-packages/sklearn/metrics/_regression.py:492: FutureWarning: 'squared' is deprecated in version 1.4 and will be removed in 1.6. To calculate the root mean squared error, use the function'root_mean_squared_error'.\n",
      "  warnings.warn(\n",
      "/opt/anaconda3/lib/python3.12/site-packages/sklearn/metrics/_regression.py:492: FutureWarning: 'squared' is deprecated in version 1.4 and will be removed in 1.6. To calculate the root mean squared error, use the function'root_mean_squared_error'.\n",
      "  warnings.warn(\n"
     ]
    },
    {
     "name": "stdout",
     "output_type": "stream",
     "text": [
      "Kolom yang tersedia di batch_8_20241210_152436.csv: ['b2c_c2c', 'seller_id', 'declared_handling_days', 'shipment_method_id', 'item_zip', 'buyer_zip', 'category_id', 'item_price', 'quantity', 'weight', 'package_size', 'zip_distance', 'shipping_fee', 'delivery_date', 'acceptance_date', 'timestamp']\n"
     ]
    },
    {
     "name": "stderr",
     "output_type": "stream",
     "text": [
      "/opt/anaconda3/lib/python3.12/site-packages/sklearn/metrics/_regression.py:492: FutureWarning: 'squared' is deprecated in version 1.4 and will be removed in 1.6. To calculate the root mean squared error, use the function'root_mean_squared_error'.\n",
      "  warnings.warn(\n",
      "/opt/anaconda3/lib/python3.12/site-packages/sklearn/metrics/_regression.py:492: FutureWarning: 'squared' is deprecated in version 1.4 and will be removed in 1.6. To calculate the root mean squared error, use the function'root_mean_squared_error'.\n",
      "  warnings.warn(\n"
     ]
    },
    {
     "name": "stdout",
     "output_type": "stream",
     "text": [
      "Evaluasi untuk file batch_1_20241210_152426.csv:\n",
      "Shipping Fee - MAE: 1.84, RMSE: 4.31, R²: 0.61\n",
      "Shipping Duration - MAE: 0.93, RMSE: 1.46, R²: 0.12\n",
      "\n",
      "Evaluasi untuk file batch_2_20241210_152427.csv:\n",
      "Shipping Fee - MAE: 1.73, RMSE: 3.87, R²: 0.65\n",
      "Shipping Duration - MAE: 0.93, RMSE: 1.46, R²: 0.10\n",
      "\n",
      "Evaluasi untuk file batch_3_20241210_152429.csv:\n",
      "Shipping Fee - MAE: 1.70, RMSE: 3.67, R²: 0.66\n",
      "Shipping Duration - MAE: 0.93, RMSE: 1.52, R²: 0.03\n",
      "\n",
      "Evaluasi untuk file batch_4_20241210_152430.csv:\n",
      "Shipping Fee - MAE: 1.66, RMSE: 3.68, R²: 0.64\n",
      "Shipping Duration - MAE: 0.92, RMSE: 1.41, R²: 0.14\n",
      "\n",
      "Evaluasi untuk file batch_5_20241210_152431.csv:\n",
      "Shipping Fee - MAE: 1.64, RMSE: 3.66, R²: 0.67\n",
      "Shipping Duration - MAE: 0.92, RMSE: 1.46, R²: 0.14\n",
      "\n",
      "Evaluasi untuk file batch_6_20241210_152432.csv:\n",
      "Shipping Fee - MAE: 1.65, RMSE: 3.67, R²: 0.66\n",
      "Shipping Duration - MAE: 0.92, RMSE: 1.47, R²: 0.12\n",
      "\n",
      "Evaluasi untuk file batch_7_20241210_152434.csv:\n",
      "Shipping Fee - MAE: 1.65, RMSE: 3.90, R²: 0.63\n",
      "Shipping Duration - MAE: 0.92, RMSE: 1.47, R²: 0.13\n",
      "\n",
      "Evaluasi untuk file batch_8_20241210_152436.csv:\n",
      "Shipping Fee - MAE: 1.63, RMSE: 3.79, R²: 0.64\n",
      "Shipping Duration - MAE: 0.93, RMSE: 1.49, R²: 0.12\n",
      "\n"
     ]
    }
   ],
   "source": [
    "import boto3\n",
    "import pandas as pd\n",
    "from sklearn.model_selection import train_test_split\n",
    "from sklearn.ensemble import RandomForestRegressor\n",
    "from sklearn.metrics import mean_absolute_error, mean_squared_error, r2_score\n",
    "import joblib\n",
    "\n",
    "# Inisialisasi klien MinIO\n",
    "minio_client = boto3.client('s3',\n",
    "                             endpoint_url='http://localhost:9000',\n",
    "                             aws_access_key_id='minioadmin',\n",
    "                             aws_secret_access_key='minioadmin')\n",
    "\n",
    "# Menampilkan daftar objek di bucket\n",
    "bucket_name = 'ebay'\n",
    "response = minio_client.list_objects_v2(Bucket=bucket_name)\n",
    "\n",
    "# Mengambil semua objek yang relevan\n",
    "files = []\n",
    "for obj in response.get('Contents', []):\n",
    "    if 'batch_' in obj['Key']:\n",
    "        files.append(obj['Key'])\n",
    "\n",
    "print(\"Daftar objek di bucket:\")\n",
    "for file_key in files:\n",
    "    print(file_key)\n",
    "\n",
    "# Menyimpan hasil evaluasi dari setiap batch\n",
    "batch_results = {}\n",
    "\n",
    "for file_key in files:\n",
    "    # Mengambil file dari MinIO\n",
    "    response = minio_client.get_object(Bucket=bucket_name, Key=file_key)\n",
    "    df = pd.read_csv(response['Body'])\n",
    "    \n",
    "    # Cek kolom yang tersedia\n",
    "    print(f\"Kolom yang tersedia di {file_key}: {df.columns.tolist()}\")\n",
    "\n",
    "    # Memilih kolom yang relevan\n",
    "    selected_columns = [\n",
    "        \"b2c_c2c\", \"seller_id\", \"declared_handling_days\", \n",
    "        \"shipment_method_id\", \"item_zip\", \"buyer_zip\", \n",
    "        \"category_id\", \"item_price\", \"quantity\", \n",
    "        \"weight\", \"package_size\", \"zip_distance\", \n",
    "        \"shipping_fee\", \"delivery_date\", \"acceptance_date\"\n",
    "    ]\n",
    "    \n",
    "    # Filter kolom yang ada\n",
    "    selected_columns = [col for col in selected_columns if col in df.columns]\n",
    "    df = df[selected_columns]\n",
    "\n",
    "    # Konversi kolom tanggal menjadi datetime\n",
    "    df[\"delivery_date\"] = pd.to_datetime(df[\"delivery_date\"])\n",
    "    df[\"acceptance_date\"] = pd.to_datetime(df[\"acceptance_date\"])\n",
    "    \n",
    "    # Hitung durasi pengiriman\n",
    "    df[\"shipping_duration\"] = (df[\"delivery_date\"] - df[\"acceptance_date\"]).dt.days\n",
    "    df.drop([\"delivery_date\", \"acceptance_date\"], axis=1, inplace=True)\n",
    "\n",
    "    # Pisahkan fitur (X) dan target (y)\n",
    "    X = df.drop([\"shipping_fee\", \"shipping_duration\"], axis=1)\n",
    "    y = df[[\"shipping_fee\", \"shipping_duration\"]]\n",
    "\n",
    "    # Pastikan y tidak kosong\n",
    "    if y.empty:\n",
    "        print(f\"Data target kosong untuk file {file_key}. Melanjutkan ke file berikutnya.\")\n",
    "        continue\n",
    "\n",
    "    # Pisahkan dataset menjadi data training dan testing\n",
    "    X_train, X_test, y_train, y_test = train_test_split(X, y, test_size=0.2, random_state=42)\n",
    "\n",
    "    # Model untuk prediksi shipping_fee\n",
    "    shipping_fee_model = RandomForestRegressor(n_estimators=100, random_state=42)\n",
    "    shipping_fee_model.fit(X_train, y_train[\"shipping_fee\"])\n",
    "\n",
    "    # Evaluasi model untuk shipping_fee\n",
    "    y_pred_fee = shipping_fee_model.predict(X_test)\n",
    "    mae_fee = mean_absolute_error(y_test[\"shipping_fee\"], y_pred_fee)\n",
    "    rmse_fee = mean_squared_error(y_test[\"shipping_fee\"], y_pred_fee, squared=False)\n",
    "    r2_fee = r2_score(y_test[\"shipping_fee\"], y_pred_fee)\n",
    "\n",
    "    # Model untuk prediksi shipping_duration\n",
    "    shipping_duration_model = RandomForestRegressor(n_estimators=100, random_state=42)\n",
    "    shipping_duration_model.fit(X_train, y_train[\"shipping_duration\"])\n",
    "\n",
    "    # Evaluasi model untuk shipping_duration\n",
    "    y_pred_duration = shipping_duration_model.predict(X_test)\n",
    "    mae_duration = mean_absolute_error(y_test[\"shipping_duration\"], y_pred_duration)\n",
    "    rmse_duration = mean_squared_error(y_test[\"shipping_duration\"], y_pred_duration, squared=False)\n",
    "    r2_duration = r2_score(y_test[\"shipping_duration\"], y_pred_duration)\n",
    "\n",
    "    # Simpan hasil evaluasi\n",
    "    batch_results[file_key] = {\n",
    "        \"fee_mae\": mae_fee,\n",
    "        \"fee_rmse\": rmse_fee,\n",
    "        \"fee_r2\": r2_fee,\n",
    "        \"duration_mae\": mae_duration,\n",
    "        \"duration_rmse\": rmse_duration,\n",
    "        \"duration_r2\": r2_duration\n",
    "    }\n",
    "\n",
    "    # Simpan model\n",
    "    joblib.dump(shipping_fee_model, f\"shipping_fee_model_{file_key}.pkl\")\n",
    "    joblib.dump(shipping_duration_model, f\"shipping_duration_model_{file_key}.pkl\")\n",
    "\n",
    "# Tampilkan hasil evaluasi untuk setiap batch\n",
    "for file_key, metrics in batch_results.items():\n",
    "    print(f\"Evaluasi untuk file {file_key}:\")\n",
    "    print(f\"Shipping Fee - MAE: {metrics['fee_mae']:.2f}, RMSE: {metrics['fee_rmse']:.2f}, R²: {metrics['fee_r2']:.2f}\")\n",
    "    print(f\"Shipping Duration - MAE: {metrics['duration_mae']:.2f}, RMSE: {metrics['duration_rmse']:.2f}, R²: {metrics['duration_r2']:.2f}\")\n",
    "    print()"
   ]
  }
 ],
 "metadata": {
  "kernelspec": {
   "display_name": "base",
   "language": "python",
   "name": "python3"
  },
  "language_info": {
   "codemirror_mode": {
    "name": "ipython",
    "version": 3
   },
   "file_extension": ".py",
   "mimetype": "text/x-python",
   "name": "python",
   "nbconvert_exporter": "python",
   "pygments_lexer": "ipython3",
   "version": "3.12.7"
  }
 },
 "nbformat": 4,
 "nbformat_minor": 5
}
